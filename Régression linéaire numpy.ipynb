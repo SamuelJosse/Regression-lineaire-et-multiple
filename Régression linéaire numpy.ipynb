{
 "cells": [
  {
   "cell_type": "code",
   "execution_count": 353,
   "metadata": {},
   "outputs": [],
   "source": [
    "import numpy as np\n",
    "from sklearn.datasets import make_regression\n",
    "import matplotlib.pyplot as plt"
   ]
  },
  {
   "cell_type": "markdown",
   "metadata": {},
   "source": [
    "### 1. Dataset"
   ]
  },
  {
   "cell_type": "code",
   "execution_count": 354,
   "metadata": {},
   "outputs": [
    {
     "data": {
      "text/plain": [
       "<matplotlib.collections.PathCollection at 0x1c0341233d0>"
      ]
     },
     "execution_count": 354,
     "metadata": {},
     "output_type": "execute_result"
    },
    {
     "data": {
      "image/png": "[encoded data removed]",
      "text/plain": [
       "<Figure size 432x288 with 1 Axes>"
      ]
     },
     "metadata": {
      "needs_background": "light"
     },
     "output_type": "display_data"
    }
   ],
   "source": [
    "x, y = make_regression(n_samples=100,n_features=1,noise = 1)\n",
    "plt.scatter(x,y)"
   ]
  },
  {
   "cell_type": "code",
   "execution_count": 355,
   "metadata": {},
   "outputs": [
    {
     "name": "stdout",
     "output_type": "stream",
     "text": [
      "(100, 1)\n",
      "(100, 1)\n"
     ]
    }
   ],
   "source": [
    "print(x.shape)\n",
    "Y = y.reshape(y.shape[0],1)\n",
    "print(Y.shape)\n"
   ]
  },
  {
   "cell_type": "code",
   "execution_count": 356,
   "metadata": {},
   "outputs": [
    {
     "name": "stdout",
     "output_type": "stream",
     "text": [
      "[[-0.88661827  1.        ]\n",
      " [-1.25045057  1.        ]\n",
      " [-0.36635683  1.        ]\n",
      " [ 0.85166059  1.        ]\n",
      " [ 0.18493086  1.        ]\n",
      " [ 0.28127728  1.        ]\n",
      " [-1.36070693  1.        ]\n",
      " [ 0.07365867  1.        ]\n",
      " [-1.64653769  1.        ]\n",
      " [ 0.60377443  1.        ]\n",
      " [-1.75112212  1.        ]\n",
      " [-0.57195521  1.        ]\n",
      " [ 0.34539098  1.        ]\n",
      " [-1.87244751  1.        ]\n",
      " [-1.02928347  1.        ]\n",
      " [ 0.71497991  1.        ]\n",
      " [-0.8849893   1.        ]\n",
      " [-0.7092701   1.        ]\n",
      " [-0.11409712  1.        ]\n",
      " [-0.34376504  1.        ]\n",
      " [ 0.39969242  1.        ]\n",
      " [ 1.04572109  1.        ]\n",
      " [-1.36182305  1.        ]\n",
      " [ 0.31948478  1.        ]\n",
      " [-1.0688498   1.        ]\n",
      " [-0.3296999   1.        ]\n",
      " [-0.89648038  1.        ]\n",
      " [ 0.12855196  1.        ]\n",
      " [ 0.97939128  1.        ]\n",
      " [-1.2403779   1.        ]\n",
      " [-0.14055181  1.        ]\n",
      " [-1.58856174  1.        ]\n",
      " [ 1.07877898  1.        ]\n",
      " [ 0.74611726  1.        ]\n",
      " [ 0.83716906  1.        ]\n",
      " [ 1.06258692  1.        ]\n",
      " [ 1.63824651  1.        ]\n",
      " [ 0.01698849  1.        ]\n",
      " [ 0.65506576  1.        ]\n",
      " [-1.65518988  1.        ]\n",
      " [-1.45176679  1.        ]\n",
      " [ 0.17868703  1.        ]\n",
      " [ 0.06876509  1.        ]\n",
      " [ 0.71692559  1.        ]\n",
      " [-0.44943159  1.        ]\n",
      " [ 0.20258886  1.        ]\n",
      " [-0.16906931  1.        ]\n",
      " [-0.68436577  1.        ]\n",
      " [ 1.43678051  1.        ]\n",
      " [-1.48996201  1.        ]\n",
      " [ 0.71504504  1.        ]\n",
      " [-0.61306117  1.        ]\n",
      " [-0.9342299   1.        ]\n",
      " [-0.64870711  1.        ]\n",
      " [ 0.84261474  1.        ]\n",
      " [-1.30600038  1.        ]\n",
      " [-1.78554353  1.        ]\n",
      " [ 0.59001747  1.        ]\n",
      " [-0.51176033  1.        ]\n",
      " [ 0.4909665   1.        ]\n",
      " [-0.6493364   1.        ]\n",
      " [ 0.2534401   1.        ]\n",
      " [ 0.74877676  1.        ]\n",
      " [-0.70255943  1.        ]\n",
      " [-0.77227175  1.        ]\n",
      " [ 0.88925091  1.        ]\n",
      " [-2.52264474  1.        ]\n",
      " [ 0.86298713  1.        ]\n",
      " [ 1.08747894  1.        ]\n",
      " [-1.27341918  1.        ]\n",
      " [-0.1412437   1.        ]\n",
      " [ 1.76632725  1.        ]\n",
      " [-1.64115639  1.        ]\n",
      " [-0.1238584   1.        ]\n",
      " [-1.2837752   1.        ]\n",
      " [ 1.47534326  1.        ]\n",
      " [ 0.26134826  1.        ]\n",
      " [-0.14451299  1.        ]\n",
      " [ 0.40207591  1.        ]\n",
      " [ 0.60277643  1.        ]\n",
      " [ 1.04630816  1.        ]\n",
      " [-1.62605384  1.        ]\n",
      " [-0.2465404   1.        ]\n",
      " [ 1.05213022  1.        ]\n",
      " [-2.32708473  1.        ]\n",
      " [ 0.5585533   1.        ]\n",
      " [ 1.1980643   1.        ]\n",
      " [-0.29431401  1.        ]\n",
      " [ 0.0934486   1.        ]\n",
      " [-0.50260625  1.        ]\n",
      " [-0.17493344  1.        ]\n",
      " [ 0.004555    1.        ]\n",
      " [-0.03731519  1.        ]\n",
      " [ 0.97714899  1.        ]\n",
      " [-2.57481031  1.        ]\n",
      " [-1.31083465  1.        ]\n",
      " [-0.24972238  1.        ]\n",
      " [ 0.38724467  1.        ]\n",
      " [-0.39839942  1.        ]\n",
      " [ 1.04891237  1.        ]]\n",
      "(100, 2)\n"
     ]
    }
   ],
   "source": [
    "#matrice X\n",
    "X = np.hstack((x,np.ones(x.shape)))\n",
    "print(X)\n",
    "print(X.shape)"
   ]
  },
  {
   "cell_type": "code",
   "execution_count": 357,
   "metadata": {},
   "outputs": [
    {
     "name": "stdout",
     "output_type": "stream",
     "text": [
      "[[ 0.39701892]\n",
      " [-0.50111975]]\n",
      "(2, 1)\n"
     ]
    }
   ],
   "source": [
    "theta = np.random.randn(2,1)\n",
    "print(theta)\n",
    "print(theta.shape)\n"
   ]
  },
  {
   "cell_type": "markdown",
   "metadata": {},
   "source": [
    "### 2. Modèle linéaire"
   ]
  },
  {
   "cell_type": "code",
   "execution_count": 358,
   "metadata": {},
   "outputs": [],
   "source": [
    "def model(X,theta):\n",
    "    return X.dot(theta)"
   ]
  },
  {
   "cell_type": "code",
   "execution_count": 359,
   "metadata": {},
   "outputs": [
    {
     "data": {
      "text/plain": [
       "[<matplotlib.lines.Line2D at 0x1c0341804f0>]"
      ]
     },
     "execution_count": 359,
     "metadata": {},
     "output_type": "execute_result"
    },
    {
     "data": {
      "image/png": "[encoded data removed]",
      "text/plain": [
       "<Figure size 432x288 with 1 Axes>"
      ]
     },
     "metadata": {
      "needs_background": "light"
     },
     "output_type": "display_data"
    }
   ],
   "source": [
    "plt.scatter(x,y)\n",
    "plt.plot(x,model(X,theta), c = 'r')"
   ]
  },
  {
   "cell_type": "markdown",
   "metadata": {},
   "source": [
    "### 3. Fonction coût"
   ]
  },
  {
   "cell_type": "code",
   "execution_count": 360,
   "metadata": {},
   "outputs": [],
   "source": [
    "def cost_function(X,Y,theta):\n",
    "    m = len(Y)\n",
    "    return 1/(2*m) * np.sum((model(X,theta) - Y) **2)"
   ]
  },
  {
   "cell_type": "code",
   "execution_count": 361,
   "metadata": {},
   "outputs": [
    {
     "data": {
      "text/plain": [
       "1168.191425477929"
      ]
     },
     "execution_count": 361,
     "metadata": {},
     "output_type": "execute_result"
    }
   ],
   "source": [
    "cost_function(X,Y,theta)"
   ]
  },
  {
   "cell_type": "markdown",
   "metadata": {},
   "source": [
    "### 4. Gradients et Descente de Gradient"
   ]
  },
  {
   "cell_type": "code",
   "execution_count": 362,
   "metadata": {},
   "outputs": [],
   "source": [
    "def grad(X,Y,theta):\n",
    "    m = len (Y)\n",
    "    return 1/m * X.T.dot(model(X,theta) - Y)\n"
   ]
  },
  {
   "cell_type": "code",
   "execution_count": 363,
   "metadata": {},
   "outputs": [],
   "source": [
    "def gradient_descent(X,Y,theta,learning_rate,n_iterations):\n",
    "\n",
    "    cost_history = np.zeros(n_iterations)\n",
    "    for i in range(0,n_iterations):\n",
    "        theta =  theta - learning_rate * grad(X,Y,theta)\n",
    "        cost_history[i] = cost_function(X,Y,theta)\n",
    "    return theta,cost_history\n"
   ]
  },
  {
   "cell_type": "markdown",
   "metadata": {},
   "source": [
    "### 5. Entraînement du modèle"
   ]
  },
  {
   "cell_type": "code",
   "execution_count": 364,
   "metadata": {},
   "outputs": [
    {
     "data": {
      "text/plain": [
       "array([[48.62470606],\n",
       "       [-0.13138694]])"
      ]
     },
     "execution_count": 364,
     "metadata": {},
     "output_type": "execute_result"
    }
   ],
   "source": [
    "theta_final,cost_history = gradient_descent(X,Y,theta,learning_rate = 0.01,n_iterations = 1000)\n",
    "theta_final"
   ]
  },
  {
   "cell_type": "code",
   "execution_count": 365,
   "metadata": {},
   "outputs": [
    {
     "data": {
      "text/plain": [
       "[<matplotlib.lines.Line2D at 0x1c0341df310>]"
      ]
     },
     "execution_count": 365,
     "metadata": {},
     "output_type": "execute_result"
    },
    {
     "data": {
      "image/png": "[encoded data removed]",
      "text/plain": [
       "<Figure size 432x288 with 1 Axes>"
      ]
     },
     "metadata": {
      "needs_background": "light"
     },
     "output_type": "display_data"
    }
   ],
   "source": [
    "predictions = model (X,theta_final)\n",
    "plt.scatter(x,y)\n",
    "plt.plot(x,predictions, c = 'r')\n",
    "\n",
    "\n"
   ]
  },
  {
   "cell_type": "markdown",
   "metadata": {},
   "source": [
    "### 6. Courbe d'apprentissage"
   ]
  },
  {
   "cell_type": "code",
   "execution_count": 366,
   "metadata": {},
   "outputs": [
    {
     "data": {
      "text/plain": [
       "[<matplotlib.lines.Line2D at 0x1c0342010a0>]"
      ]
     },
     "execution_count": 366,
     "metadata": {},
     "output_type": "execute_result"
    },
    {
     "data": {
      "image/png": "[encoded data removed]",
      "text/plain": [
       "<Figure size 432x288 with 1 Axes>"
      ]
     },
     "metadata": {
      "needs_background": "light"
     },
     "output_type": "display_data"
    }
   ],
   "source": [
    "plt.plot(range(1000),cost_history)"
   ]
  },
  {
   "cell_type": "markdown",
   "metadata": {},
   "source": [
    "### 7. Coefficient de détermination"
   ]
  },
  {
   "cell_type": "code",
   "execution_count": 367,
   "metadata": {},
   "outputs": [],
   "source": [
    "def coef_determination(Y,predictions):\n",
    "    u = ((Y - predictions)**2).sum() # résidu de la somme des carrés \n",
    "    v = ((Y - Y.mean())**2).sum() # somme totale des carrés\n",
    "    return 1 - u/v\n",
    " "
   ]
  },
  {
   "cell_type": "code",
   "execution_count": 368,
   "metadata": {},
   "outputs": [
    {
     "data": {
      "text/plain": [
       "0.9995518022865278"
      ]
     },
     "execution_count": 368,
     "metadata": {},
     "output_type": "execute_result"
    }
   ],
   "source": [
    "coef_determination(Y,predictions)\n"
   ]
  }
 ],
 "metadata": {
  "interpreter": {
   "hash": "c480fffb9c9bf00f8510876836fde2a7118e35deb653bd9fea6360aa9feb4f8a"
  },
  "kernelspec": {
   "display_name": "Python 3.9.7 64-bit ('base': conda)",
   "language": "python",
   "name": "python3"
  },
  "language_info": {
   "codemirror_mode": {
    "name": "ipython",
    "version": 3
   },
   "file_extension": ".py",
   "mimetype": "text/x-python",
   "name": "python",
   "nbconvert_exporter": "python",
   "pygments_lexer": "ipython3",
   "version": "3.9.7"
  },
  "orig_nbformat": 4
 },
 "nbformat": 4,
 "nbformat_minor": 2
}
